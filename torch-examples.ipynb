{
 "cells": [
  {
   "cell_type": "code",
   "execution_count": 66,
   "id": "7facc069",
   "metadata": {},
   "outputs": [
    {
     "name": "stdout",
     "output_type": "stream",
     "text": [
      "mps\n"
     ]
    }
   ],
   "source": [
    "import torch\n",
    "import numpy as np\n",
    "import time\n",
    "from torch.nn import functional as F\n",
    "device = torch.device(\"mps\")\n",
    "print(device)"
   ]
  },
  {
   "cell_type": "code",
   "execution_count": 2,
   "id": "4b9d562e",
   "metadata": {},
   "outputs": [
    {
     "data": {
      "text/plain": [
       "tensor([ 20, -34,  38, -77,  97, -76])"
      ]
     },
     "execution_count": 2,
     "metadata": {},
     "output_type": "execute_result"
    }
   ],
   "source": [
    "randint = torch.randint(-100,100,(6,))\n",
    "randint"
   ]
  },
  {
   "cell_type": "code",
   "execution_count": 5,
   "id": "da9c2676",
   "metadata": {},
   "outputs": [
    {
     "data": {
      "text/plain": [
       "tensor([[0.1000, 1.2000],\n",
       "        [2.2000, 3.1000],\n",
       "        [4.9000, 5.2000]])"
      ]
     },
     "execution_count": 5,
     "metadata": {},
     "output_type": "execute_result"
    }
   ],
   "source": [
    "tensor = torch.tensor([[0.1,1.2],[2.2,3.1],[4.9,5.2]])\n",
    "tensor"
   ]
  },
  {
   "cell_type": "code",
   "execution_count": 6,
   "id": "97539c01",
   "metadata": {},
   "outputs": [
    {
     "data": {
      "text/plain": [
       "tensor([[0., 0., 0.],\n",
       "        [0., 0., 0.]])"
      ]
     },
     "execution_count": 6,
     "metadata": {},
     "output_type": "execute_result"
    }
   ],
   "source": [
    "zeros = torch.zeros(2,3)\n",
    "zeros"
   ]
  },
  {
   "cell_type": "code",
   "execution_count": 8,
   "id": "654a03e4",
   "metadata": {},
   "outputs": [
    {
     "data": {
      "text/plain": [
       "tensor([[1., 1., 1., 1.],\n",
       "        [1., 1., 1., 1.],\n",
       "        [1., 1., 1., 1.]])"
      ]
     },
     "execution_count": 8,
     "metadata": {},
     "output_type": "execute_result"
    }
   ],
   "source": [
    "ones = torch.ones(3,4)\n",
    "ones"
   ]
  },
  {
   "cell_type": "code",
   "execution_count": 9,
   "id": "db41219e",
   "metadata": {},
   "outputs": [
    {
     "data": {
      "text/plain": [
       "tensor([[0., 0., 0.],\n",
       "        [0., 0., 0.]])"
      ]
     },
     "execution_count": 9,
     "metadata": {},
     "output_type": "execute_result"
    }
   ],
   "source": [
    "input = torch.empty(2,3)\n",
    "input"
   ]
  },
  {
   "cell_type": "code",
   "execution_count": 10,
   "id": "d3147dfe",
   "metadata": {},
   "outputs": [
    {
     "data": {
      "text/plain": [
       "tensor([0, 1, 2, 3, 4])"
      ]
     },
     "execution_count": 10,
     "metadata": {},
     "output_type": "execute_result"
    }
   ],
   "source": [
    "arange = torch.arange(5)\n",
    "arange"
   ]
  },
  {
   "cell_type": "code",
   "execution_count": 11,
   "id": "96e41d43",
   "metadata": {},
   "outputs": [
    {
     "data": {
      "text/plain": [
       "tensor([ 3.0000,  4.7500,  6.5000,  8.2500, 10.0000])"
      ]
     },
     "execution_count": 11,
     "metadata": {},
     "output_type": "execute_result"
    }
   ],
   "source": [
    "linspace = torch.linspace(3,10,steps=5)\n",
    "linspace"
   ]
  },
  {
   "cell_type": "code",
   "execution_count": 12,
   "id": "04cd65ba",
   "metadata": {},
   "outputs": [
    {
     "data": {
      "text/plain": [
       "tensor([1.0000e-10, 1.0000e-05, 1.0000e+00, 1.0000e+05, 1.0000e+10])"
      ]
     },
     "execution_count": 12,
     "metadata": {},
     "output_type": "execute_result"
    }
   ],
   "source": [
    "logspace = torch.logspace(start=-10, end=10,steps=5)\n",
    "logspace"
   ]
  },
  {
   "cell_type": "code",
   "execution_count": 13,
   "id": "de8c2c5c",
   "metadata": {},
   "outputs": [
    {
     "data": {
      "text/plain": [
       "tensor([[1., 0., 0., 0., 0.],\n",
       "        [0., 1., 0., 0., 0.],\n",
       "        [0., 0., 1., 0., 0.],\n",
       "        [0., 0., 0., 1., 0.],\n",
       "        [0., 0., 0., 0., 1.]])"
      ]
     },
     "execution_count": 13,
     "metadata": {},
     "output_type": "execute_result"
    }
   ],
   "source": [
    "eye = torch.eye(5)\n",
    "eye"
   ]
  },
  {
   "cell_type": "code",
   "execution_count": 15,
   "id": "de1041a6",
   "metadata": {},
   "outputs": [
    {
     "data": {
      "text/plain": [
       "tensor([[0, 0, 0],\n",
       "        [0, 0, 0]])"
      ]
     },
     "execution_count": 15,
     "metadata": {},
     "output_type": "execute_result"
    }
   ],
   "source": [
    "a = torch.empty((2,3),dtype=torch.int64)\n",
    "empty_like = torch.empty_like(a)\n",
    "empty_like"
   ]
  },
  {
   "cell_type": "markdown",
   "id": "138450fc",
   "metadata": {},
   "source": [
    "## Use GPU"
   ]
  },
  {
   "cell_type": "code",
   "execution_count": 21,
   "id": "3f1a7383",
   "metadata": {},
   "outputs": [
    {
     "name": "stdout",
     "output_type": "stream",
     "text": [
      "0.00076222\n"
     ]
    }
   ],
   "source": [
    "start_time = time.time()\n",
    "#matrix operations here\n",
    "zeros = torch.zeros(1,1)\n",
    "end_time = time.time()\n",
    "\n",
    "elapsed_time = end_time - start_time\n",
    "print(f\"{elapsed_time:.8f}\")"
   ]
  },
  {
   "cell_type": "code",
   "execution_count": 24,
   "id": "7009fd44",
   "metadata": {},
   "outputs": [
    {
     "name": "stdout",
     "output_type": "stream",
     "text": [
      "0.00638914\n",
      "0.04571271\n"
     ]
    }
   ],
   "source": [
    "torch_rand1 = torch.rand(10000,10000).to(device)\n",
    "torch_rand2 = torch.rand(10000,10000).to(device)\n",
    "\n",
    "np_rand1 = torch.rand(10000,10000)\n",
    "np_rand2 = torch.rand(10000,10000)\n",
    "\n",
    "start_time = time.time()\n",
    "\n",
    "rand = (torch_rand1 @ torch_rand2)\n",
    "\n",
    "end_time = time.time()\n",
    "\n",
    "elapsed_time = end_time - start_time\n",
    "print(f\"{elapsed_time:.8f}\")\n",
    "\n",
    "\n",
    "start_time = time.time()\n",
    "\n",
    "rand = np.multiply(np_rand1, np_rand2)\n",
    "\n",
    "end_time = time.time()\n",
    "\n",
    "elapsed_time = end_time - start_time\n",
    "print(f\"{elapsed_time:.8f}\")\n"
   ]
  },
  {
   "cell_type": "code",
   "execution_count": 29,
   "id": "b1bda37d",
   "metadata": {},
   "outputs": [
    {
     "name": "stdout",
     "output_type": "stream",
     "text": [
      "0.00615382\n",
      "0.03660679\n",
      "CPU times: user 1.04 s, sys: 189 ms, total: 1.23 s\n",
      "Wall time: 1.23 s\n"
     ]
    }
   ],
   "source": [
    "%%time\n",
    "torch_rand1 = torch.rand(100,100,100,100).to(device)\n",
    "torch_rand2 = torch.rand(100,100,100,100).to(device)\n",
    "\n",
    "np_rand1 = torch.rand(100,100,100,100)\n",
    "np_rand2 = torch.rand(100,100,100,100)\n",
    "\n",
    "start_time = time.time()\n",
    "\n",
    "rand = (torch_rand1 @ torch_rand2)\n",
    "\n",
    "end_time = time.time()\n",
    "\n",
    "elapsed_time = end_time - start_time\n",
    "print(f\"{elapsed_time:.8f}\")\n",
    "\n",
    "\n",
    "start_time = time.time()\n",
    "\n",
    "rand = np.multiply(np_rand1, np_rand2)\n",
    "\n",
    "end_time = time.time()\n",
    "\n",
    "elapsed_time = end_time - start_time\n",
    "print(f\"{elapsed_time:.8f}\")\n"
   ]
  },
  {
   "cell_type": "code",
   "execution_count": 35,
   "id": "196ea00e",
   "metadata": {},
   "outputs": [
    {
     "name": "stdout",
     "output_type": "stream",
     "text": [
      "tensor([0, 0, 1, 1, 1, 1, 1, 1, 1, 1])\n"
     ]
    }
   ],
   "source": [
    "#Define a probability tensor\n",
    "probabilities = torch.tensor([0.1,0.9])\n",
    "#10% or 0.1 => 0, 90% or 0.9 => 1. each probability points to the index of the probability in the tensor\n",
    "#Draw 5 samples from the multinomial distribution\n",
    "samples = torch.multinomial(probabilities,num_samples=10,replacement=True)\n",
    "print(samples)"
   ]
  },
  {
   "cell_type": "code",
   "execution_count": 36,
   "id": "0b9ab4e6",
   "metadata": {},
   "outputs": [
    {
     "data": {
      "text/plain": [
       "tensor([1, 2, 3, 4, 5])"
      ]
     },
     "execution_count": 36,
     "metadata": {},
     "output_type": "execute_result"
    }
   ],
   "source": [
    "tensor = torch.tensor([1,2,3,4])\n",
    "out = torch.cat((tensor,torch.tensor([5])),dim=0)\n",
    "out"
   ]
  },
  {
   "cell_type": "code",
   "execution_count": 37,
   "id": "d8088251",
   "metadata": {},
   "outputs": [
    {
     "data": {
      "text/plain": [
       "tensor([[1., 0., 0., 0., 0.],\n",
       "        [1., 1., 0., 0., 0.],\n",
       "        [1., 1., 1., 0., 0.],\n",
       "        [1., 1., 1., 1., 0.],\n",
       "        [1., 1., 1., 1., 1.]])"
      ]
     },
     "execution_count": 37,
     "metadata": {},
     "output_type": "execute_result"
    }
   ],
   "source": [
    "out = torch.tril(torch.ones(5,5))\n",
    "out\n"
   ]
  },
  {
   "cell_type": "code",
   "execution_count": 38,
   "id": "5e09e54c",
   "metadata": {},
   "outputs": [
    {
     "data": {
      "text/plain": [
       "tensor([[1., 1., 1., 1., 1.],\n",
       "        [0., 1., 1., 1., 1.],\n",
       "        [0., 0., 1., 1., 1.],\n",
       "        [0., 0., 0., 1., 1.],\n",
       "        [0., 0., 0., 0., 1.]])"
      ]
     },
     "execution_count": 38,
     "metadata": {},
     "output_type": "execute_result"
    }
   ],
   "source": [
    "out = torch.triu(torch.ones(5,5))\n",
    "out\n"
   ]
  },
  {
   "cell_type": "code",
   "execution_count": 39,
   "id": "cfb64583",
   "metadata": {},
   "outputs": [
    {
     "data": {
      "text/plain": [
       "tensor([[0., -inf, -inf, -inf, -inf],\n",
       "        [0., 0., -inf, -inf, -inf],\n",
       "        [0., 0., 0., -inf, -inf],\n",
       "        [0., 0., 0., 0., -inf],\n",
       "        [0., 0., 0., 0., 0.]])"
      ]
     },
     "execution_count": 39,
     "metadata": {},
     "output_type": "execute_result"
    }
   ],
   "source": [
    "out = torch.zeros(5,5).masked_fill(torch.tril(torch.ones(5,5)) == 0, float('-inf'))\n",
    "out"
   ]
  },
  {
   "cell_type": "code",
   "execution_count": 40,
   "id": "5e6910d3",
   "metadata": {},
   "outputs": [
    {
     "data": {
      "text/plain": [
       "tensor([[1., 0., 0., 0., 0.],\n",
       "        [1., 1., 0., 0., 0.],\n",
       "        [1., 1., 1., 0., 0.],\n",
       "        [1., 1., 1., 1., 0.],\n",
       "        [1., 1., 1., 1., 1.]])"
      ]
     },
     "execution_count": 40,
     "metadata": {},
     "output_type": "execute_result"
    }
   ],
   "source": [
    "torch.exp(out)"
   ]
  },
  {
   "cell_type": "code",
   "execution_count": 42,
   "id": "6edca04a",
   "metadata": {},
   "outputs": [
    {
     "data": {
      "text/plain": [
       "tensor([2.7183])"
      ]
     },
     "execution_count": 42,
     "metadata": {},
     "output_type": "execute_result"
    }
   ],
   "source": [
    "torch.exp(torch.tensor([1]))"
   ]
  },
  {
   "cell_type": "code",
   "execution_count": 44,
   "id": "982a4a69",
   "metadata": {},
   "outputs": [
    {
     "data": {
      "text/plain": [
       "torch.Size([4, 3, 2])"
      ]
     },
     "execution_count": 44,
     "metadata": {},
     "output_type": "execute_result"
    }
   ],
   "source": [
    "input = torch.zeros(2,3,4)\n",
    "out = input.transpose(0,2)\n",
    "out.shape"
   ]
  },
  {
   "cell_type": "code",
   "execution_count": 45,
   "id": "127bf86e",
   "metadata": {},
   "outputs": [
    {
     "data": {
      "text/plain": [
       "tensor([[1, 2, 3],\n",
       "        [4, 5, 6],\n",
       "        [7, 8, 9]])"
      ]
     },
     "execution_count": 45,
     "metadata": {},
     "output_type": "execute_result"
    }
   ],
   "source": [
    "tensor1 = torch.tensor([1,2,3])\n",
    "tensor2 = torch.tensor([4,5,6])\n",
    "tensor3 = torch.tensor([7,8,9])\n",
    "\n",
    "stacked_tensor = torch.stack([tensor1,tensor2,tensor3])\n",
    "stacked_tensor\n"
   ]
  },
  {
   "cell_type": "code",
   "execution_count": 47,
   "id": "1884db64",
   "metadata": {},
   "outputs": [
    {
     "name": "stdout",
     "output_type": "stream",
     "text": [
      "tensor([-7.4413,  3.6386, -3.7612], grad_fn=<SqueezeBackward4>)\n"
     ]
    }
   ],
   "source": [
    "import torch.nn as nn\n",
    "sample = torch.tensor([10.,10.,10.])\n",
    "linear = nn.Linear(3,3,bias=False)\n",
    "print(linear(sample))"
   ]
  },
  {
   "cell_type": "code",
   "execution_count": 49,
   "id": "f9bc42ee",
   "metadata": {},
   "outputs": [
    {
     "name": "stdout",
     "output_type": "stream",
     "text": [
      "tensor([0.0900, 0.2447, 0.6652])\n"
     ]
    }
   ],
   "source": [
    "import torch.nn.functional as F\n",
    "\n",
    "#Create a tensor\n",
    "tensor1 = torch.tensor([1.0,2.0,3.0])\n",
    "\n",
    "#Apply softmax using torch.nn.functional.softmax()\n",
    "\n",
    "softmax_output = F.softmax(tensor1,dim=0)\n",
    "\n",
    "print(softmax_output)"
   ]
  },
  {
   "cell_type": "code",
   "execution_count": 52,
   "id": "c11c661f",
   "metadata": {},
   "outputs": [
    {
     "name": "stdout",
     "output_type": "stream",
     "text": [
      "torch.Size([4, 100])\n",
      "tensor([[ 0.6446, -1.2023,  0.2470,  0.9962, -0.3906, -1.2739,  1.5316, -0.3540,\n",
      "          0.2402,  2.2202, -1.7673,  0.5336, -1.0894,  1.2228, -0.5977,  0.0377,\n",
      "         -1.5680,  1.4785,  0.4313, -0.3163,  0.2561, -0.1729, -0.6979, -0.2281,\n",
      "         -0.2898,  0.9675,  0.0491,  0.1670,  0.9842, -0.9534, -0.7511,  0.7358,\n",
      "          0.3900,  0.6773, -1.1108,  0.0448, -0.7375,  1.1513, -2.0618,  0.6190,\n",
      "         -0.4195, -0.4554, -0.0701,  0.3244, -0.4174,  0.3046, -1.0003,  0.3314,\n",
      "          0.0739,  2.4297, -0.9468,  0.1118,  0.6729,  0.1111,  1.7903, -0.3732,\n",
      "         -0.6369, -0.5362,  0.0473, -0.4887, -2.8962, -0.1816,  1.0251,  0.3672,\n",
      "         -1.0847,  0.5609, -0.0046,  0.3027, -0.2476, -1.5764,  1.2989, -1.7533,\n",
      "          0.8058,  0.7911, -1.0334, -0.6080,  0.6673, -1.1430, -1.4847, -0.9277,\n",
      "         -0.7685, -0.0603, -0.6127, -1.1851, -0.4055, -1.0543,  0.3554,  0.9435,\n",
      "         -1.3110,  1.8552, -0.0863, -0.7980, -0.4355,  0.0976,  0.6385,  2.2463,\n",
      "          0.2496, -1.5657,  0.2056, -0.6830],\n",
      "        [-0.0325,  0.1667,  0.3290, -0.9082, -0.2059,  0.4186, -0.3677, -1.7994,\n",
      "          0.8904, -0.4251,  1.9801,  1.9698, -0.4590,  0.2547, -0.2513,  0.7762,\n",
      "          0.6370,  0.5725, -0.9960, -0.0082,  1.3372, -1.1026,  0.4150, -0.7459,\n",
      "          0.0569, -0.3443, -0.1045, -1.5285, -0.1833, -0.3737, -0.8385,  0.5776,\n",
      "         -0.9704, -0.1336, -0.6292,  0.8046, -0.6478, -1.7405, -1.6546,  0.4980,\n",
      "         -0.5181, -0.4583, -0.7224,  0.8107, -0.3496,  0.2574,  1.2749,  1.0605,\n",
      "         -0.2430, -1.0391, -0.5386,  0.7421, -0.3034,  1.0092, -0.6472,  0.3694,\n",
      "         -1.1698,  0.2615,  0.3640,  0.2867,  0.8544,  0.2913,  1.4313,  0.8824,\n",
      "          0.9486,  0.5966, -0.8224, -0.9467,  0.5029, -0.3813,  1.1220,  0.3551,\n",
      "         -0.4082, -1.8303, -0.7387,  0.7914,  0.1900,  0.2026,  0.8743, -0.5129,\n",
      "         -0.6266, -0.0632, -0.5551,  1.1446,  0.3633,  0.6979,  0.0129,  0.7482,\n",
      "          1.6867, -0.3902, -2.1156, -1.2324,  0.2557,  0.3129,  0.1309,  0.3802,\n",
      "          0.2096, -0.1726,  0.2064,  0.2935],\n",
      "        [-0.7024,  0.2886,  0.2689, -2.2344, -0.1713,  0.7398,  1.0241,  0.0326,\n",
      "          0.2528, -0.8221,  0.4676, -1.0569, -0.3745, -0.0705, -0.3523, -1.2927,\n",
      "         -1.0251,  0.1597,  1.7392,  0.7435,  0.4863,  1.0168, -1.6791, -0.0485,\n",
      "         -0.3811,  0.8944,  1.3110,  0.7978,  1.2653,  2.4526, -1.0251, -0.5160,\n",
      "         -0.2678,  0.4532, -1.0018,  0.6151, -0.4165, -1.2170, -2.7576,  1.7397,\n",
      "         -0.1254, -1.0462, -0.1787, -1.7836,  1.0603,  1.7075,  1.0386, -0.4745,\n",
      "         -0.7682,  0.5524, -0.2988,  0.0381, -2.2901, -0.2705, -0.6194, -0.1209,\n",
      "          0.1537, -0.0959,  0.1074, -1.0495, -0.6513,  0.0302, -0.8092,  0.2460,\n",
      "         -1.4026, -0.8300, -1.7909, -0.9769, -0.9415, -0.2139,  0.9743,  1.4510,\n",
      "          1.1314,  0.2063, -0.0452,  0.0980,  0.3395, -0.8927, -1.4999,  1.6341,\n",
      "         -0.4529,  0.4778, -1.9266,  0.1033, -0.5775,  0.6663, -0.2988,  0.4429,\n",
      "          0.2795,  1.5015,  1.9111, -1.6620, -0.6021,  0.3740,  1.4180, -0.9137,\n",
      "          1.0182,  0.2699,  0.6681, -0.8921],\n",
      "        [ 2.3048,  0.3408, -0.5479, -1.6937, -2.0660,  1.5525,  0.8945,  1.5916,\n",
      "          2.2589, -0.5888, -0.2986, -0.0652, -0.7626, -1.2247,  0.1451, -0.7271,\n",
      "          1.2694, -0.0121,  1.0252, -0.0299,  1.1860, -1.4060,  1.9962, -0.8308,\n",
      "          0.2027,  0.1408,  0.7483,  0.2389,  0.0290,  0.8847,  0.2888,  2.1596,\n",
      "         -0.2125,  2.5499,  0.0362, -0.0090, -0.3780, -0.0778,  0.6996,  1.5418,\n",
      "          0.3690, -0.8699,  0.7690,  1.1665,  0.1602,  0.9688, -0.8018, -0.8876,\n",
      "          0.3074,  0.2688, -0.6291,  0.7745, -0.2671, -0.3441, -0.9116,  1.6687,\n",
      "         -0.2940, -0.2743, -0.9339, -0.4244, -0.3715, -0.8482, -2.3358, -0.3619,\n",
      "          0.8989,  1.3125,  1.1616,  0.6231, -0.3775,  0.3438, -0.3431,  0.1017,\n",
      "         -1.3951,  0.2716,  1.6415, -1.1830,  0.2564, -0.4424,  0.1609, -0.0863,\n",
      "          1.1746,  0.4898, -0.3613, -1.4847, -1.3682, -0.3187, -0.4626,  0.6797,\n",
      "         -0.8186, -0.0967, -1.6720, -0.7389,  0.1023, -0.2994, -0.3976, -0.4901,\n",
      "         -0.1578, -0.2810,  1.5740,  0.5924]], grad_fn=<EmbeddingBackward0>)\n"
     ]
    }
   ],
   "source": [
    "#Initialize an embedding layer\n",
    "vocab_size = 10000\n",
    "embedding_size = 100\n",
    "embedding = nn.Embedding(vocab_size,embedding_size)\n",
    "\n",
    "#Create some input indices\n",
    "input_indices = torch.LongTensor([1,5,3,2])\n",
    "\n",
    "#Apply the embedding layer\n",
    "\n",
    "embedding_output = embedding(input_indices)\n",
    "\n",
    "#The output will be a tensor of shape (4,100), where 4 is the number of inputs \n",
    "# and 100 is the dimensionality of the embedding vectors\n",
    "print(embedding_output.shape)\n",
    "print(embedding_output)"
   ]
  },
  {
   "cell_type": "code",
   "execution_count": 59,
   "id": "75ec3991",
   "metadata": {},
   "outputs": [
    {
     "name": "stdout",
     "output_type": "stream",
     "text": [
      "tensor([[ 27,  30,  33],\n",
      "        [ 61,  68,  75],\n",
      "        [ 95, 106, 117]])\n",
      "tensor([[ 27,  30,  33],\n",
      "        [ 61,  68,  75],\n",
      "        [ 95, 106, 117]])\n"
     ]
    }
   ],
   "source": [
    "a = torch.tensor([[1,2],[3,4],[5,6]])\n",
    "b = torch.tensor([[7,8,9],[10,11,12]])\n",
    "print(a@b)\n",
    "print(torch.matmul(a,b))"
   ]
  },
  {
   "cell_type": "code",
   "execution_count": 60,
   "id": "95a3d65c",
   "metadata": {},
   "outputs": [
    {
     "name": "stdout",
     "output_type": "stream",
     "text": [
      "tensor([[0, 0],\n",
      "        [0, 0],\n",
      "        [0, 0]])\n",
      "tensor([[0.1518, 0.1893, 0.2554],\n",
      "        [0.0546, 0.8495, 0.6651]])\n",
      "torch.int64 torch.float32\n"
     ]
    },
    {
     "ename": "RuntimeError",
     "evalue": "expected m1 and m2 to have the same dtype, but got: long long != float",
     "output_type": "error",
     "traceback": [
      "\u001b[0;31m---------------------------------------------------------------------------\u001b[0m",
      "\u001b[0;31mRuntimeError\u001b[0m                              Traceback (most recent call last)",
      "Cell \u001b[0;32mIn[60], line 8\u001b[0m\n\u001b[1;32m      6\u001b[0m \u001b[38;5;66;03m#type float32\u001b[39;00m\n\u001b[1;32m      7\u001b[0m \u001b[38;5;28mprint\u001b[39m(int_64\u001b[38;5;241m.\u001b[39mdtype,float_32\u001b[38;5;241m.\u001b[39mdtype)\n\u001b[0;32m----> 8\u001b[0m result \u001b[38;5;241m=\u001b[39m \u001b[43mtorch\u001b[49m\u001b[38;5;241;43m.\u001b[39;49m\u001b[43mmatmul\u001b[49m\u001b[43m(\u001b[49m\u001b[43mint_64\u001b[49m\u001b[43m,\u001b[49m\u001b[43mfloat_32\u001b[49m\u001b[43m)\u001b[49m\n\u001b[1;32m      9\u001b[0m \u001b[38;5;28mprint\u001b[39m(result)\n",
      "\u001b[0;31mRuntimeError\u001b[0m: expected m1 and m2 to have the same dtype, but got: long long != float"
     ]
    }
   ],
   "source": [
    "int_64 = torch.randint(1,(3,2))\n",
    "#type int64\n",
    "print(int_64)\n",
    "float_32 = torch.rand((2,3))\n",
    "print(float_32)\n",
    "#type float32\n",
    "print(int_64.dtype,float_32.dtype)\n",
    "result = torch.matmul(int_64,float_32)\n",
    "print(result)"
   ]
  },
  {
   "cell_type": "code",
   "execution_count": 61,
   "id": "46ec3e87",
   "metadata": {},
   "outputs": [
    {
     "name": "stdout",
     "output_type": "stream",
     "text": [
      "tensor([[0., 0.],\n",
      "        [0., 0.],\n",
      "        [0., 0.]])\n",
      "tensor([[0.9134, 0.8545, 0.1169],\n",
      "        [0.1561, 0.6222, 0.5028]])\n",
      "torch.float32 torch.float32\n",
      "tensor([[0., 0., 0.],\n",
      "        [0., 0., 0.],\n",
      "        [0., 0., 0.]])\n"
     ]
    }
   ],
   "source": [
    "int_64 = torch.randint(1,(3,2)).float()\n",
    "#type int64\n",
    "print(int_64)\n",
    "float_32 = torch.rand((2,3))\n",
    "print(float_32)\n",
    "#type float32\n",
    "print(int_64.dtype,float_32.dtype)\n",
    "result = torch.matmul(int_64,float_32)\n",
    "print(result)"
   ]
  },
  {
   "cell_type": "code",
   "execution_count": 63,
   "id": "0bbc4310",
   "metadata": {},
   "outputs": [
    {
     "name": "stdout",
     "output_type": "stream",
     "text": [
      "torch.Size([2, 3, 5])\n",
      "torch.Size([2, 3, 5])\n"
     ]
    }
   ],
   "source": [
    "a = torch.rand(2,3,5)\n",
    "print(a.shape)\n",
    "x,y,z = a.shape\n",
    "a = a.view(x,y,z)\n",
    "print(a.shape)"
   ]
  },
  {
   "cell_type": "code",
   "execution_count": 65,
   "id": "c003b17c",
   "metadata": {},
   "outputs": [
    {
     "name": "stdout",
     "output_type": "stream",
     "text": [
      "tensor([[7.7274e-01, 5.1927e-01, 2.3079e-02, 7.0119e-01, 8.4227e-01, 5.8001e-01,\n",
      "         3.8613e-01, 2.7344e-02, 1.0269e-01, 5.4072e-01],\n",
      "        [3.7748e-01, 8.6957e-01, 6.6145e-01, 1.4624e-01, 9.4165e-01, 6.9688e-01,\n",
      "         2.7833e-01, 7.6292e-01, 9.4740e-01, 8.5561e-01],\n",
      "        [7.3350e-02, 9.9356e-01, 6.3588e-01, 4.1258e-01, 9.2029e-01, 7.1816e-01,\n",
      "         1.0334e-01, 7.5096e-01, 5.7633e-01, 6.6898e-01],\n",
      "        [7.3458e-01, 4.2309e-01, 6.9030e-01, 5.8263e-01, 9.7460e-01, 5.1472e-01,\n",
      "         3.9184e-01, 6.0180e-01, 8.6680e-01, 3.9538e-01],\n",
      "        [1.6883e-01, 9.0000e-01, 5.4538e-01, 5.6999e-02, 3.0914e-01, 9.0053e-01,\n",
      "         8.6174e-01, 7.5022e-01, 1.5762e-01, 7.5337e-01],\n",
      "        [6.5698e-01, 7.4356e-01, 4.3574e-01, 6.9732e-01, 9.0282e-01, 5.9390e-01,\n",
      "         3.7369e-02, 7.3659e-01, 1.8234e-01, 2.9853e-01],\n",
      "        [3.7473e-01, 5.0335e-01, 5.1399e-01, 9.2097e-01, 4.6752e-02, 8.8384e-01,\n",
      "         1.7704e-02, 7.6470e-02, 5.8032e-01, 4.7645e-01],\n",
      "        [8.5389e-01, 9.9617e-01, 4.6596e-01, 7.6747e-02, 2.3897e-01, 1.3038e-02,\n",
      "         3.7507e-01, 9.0570e-01, 2.3407e-01, 4.4112e-01],\n",
      "        [3.8415e-01, 3.4222e-01, 9.4367e-01, 2.1248e-01, 6.3724e-01, 8.3518e-01,\n",
      "         4.1517e-01, 9.1428e-01, 3.2965e-01, 8.7931e-01],\n",
      "        [7.0313e-01, 4.3950e-01, 4.6880e-01, 9.2556e-01, 8.9145e-01, 5.6570e-01,\n",
      "         4.2547e-01, 2.6931e-01, 5.6209e-03, 2.2763e-01],\n",
      "        [5.9275e-01, 2.6175e-01, 2.6125e-01, 3.6536e-01, 7.7501e-01, 4.2967e-01,\n",
      "         7.8337e-01, 6.3848e-01, 9.9312e-01, 6.7569e-01],\n",
      "        [3.6289e-01, 8.7445e-01, 1.0499e-01, 4.0466e-01, 4.8489e-01, 3.1092e-01,\n",
      "         6.9376e-02, 6.4254e-01, 9.4828e-01, 8.8995e-01],\n",
      "        [6.9159e-01, 7.3606e-02, 1.0189e-02, 8.4583e-01, 2.0138e-01, 6.6233e-01,\n",
      "         3.2448e-02, 9.3273e-01, 2.3195e-01, 5.1467e-01],\n",
      "        [4.7258e-01, 8.9615e-01, 8.6729e-01, 7.4976e-01, 2.6959e-01, 8.3330e-01,\n",
      "         6.0503e-01, 7.4632e-01, 6.1318e-01, 9.8910e-01],\n",
      "        [1.8479e-01, 4.3434e-02, 8.6660e-01, 3.9583e-01, 5.3095e-01, 6.8867e-01,\n",
      "         9.7089e-01, 4.8927e-01, 4.8562e-01, 6.3910e-01],\n",
      "        [7.0083e-02, 5.4034e-02, 6.0189e-01, 1.8585e-01, 9.1593e-01, 4.7305e-01,\n",
      "         7.9918e-04, 6.3041e-01, 8.5246e-01, 2.9437e-01],\n",
      "        [9.1836e-01, 1.1559e-01, 7.8691e-01, 8.5770e-01, 1.5250e-01, 8.7761e-01,\n",
      "         2.0184e-01, 6.3688e-01, 6.5513e-01, 8.7842e-01],\n",
      "        [9.5706e-01, 3.4426e-01, 8.8608e-01, 6.9630e-01, 5.2607e-01, 4.2125e-01,\n",
      "         3.5741e-01, 9.5866e-01, 3.1166e-03, 5.8956e-01],\n",
      "        [5.8204e-01, 5.0131e-01, 5.8220e-01, 7.0330e-01, 3.6194e-01, 5.6113e-01,\n",
      "         1.8277e-01, 5.8410e-02, 7.5035e-01, 9.5768e-01],\n",
      "        [2.9655e-01, 9.1075e-02, 3.4774e-01, 9.2544e-01, 5.1648e-01, 2.9327e-01,\n",
      "         2.9142e-01, 5.2873e-01, 5.8556e-01, 7.4687e-01],\n",
      "        [3.1620e-01, 3.4293e-01, 1.1324e-01, 6.2521e-01, 1.6331e-01, 6.3568e-01,\n",
      "         3.8555e-01, 6.2120e-01, 7.0805e-01, 1.7035e-01],\n",
      "        [5.1563e-01, 4.0174e-02, 6.5993e-01, 3.5629e-01, 4.3328e-01, 3.6687e-02,\n",
      "         6.7859e-01, 9.8661e-01, 8.9256e-01, 7.7061e-02],\n",
      "        [2.7146e-01, 7.4400e-01, 2.7956e-01, 3.0524e-01, 5.4118e-01, 3.1309e-01,\n",
      "         9.5230e-01, 1.9066e-01, 6.9962e-01, 1.1210e-01],\n",
      "        [9.6760e-01, 9.2192e-01, 4.6566e-01, 9.5753e-01, 2.7412e-01, 9.8912e-01,\n",
      "         7.1504e-01, 8.5400e-01, 4.6545e-01, 5.3916e-01],\n",
      "        [4.0542e-01, 4.8784e-01, 9.8219e-01, 4.1307e-01, 8.8949e-01, 2.3543e-01,\n",
      "         7.3543e-01, 4.8388e-01, 4.2692e-01, 4.1221e-01],\n",
      "        [7.6734e-01, 8.7634e-01, 1.8884e-01, 3.0215e-01, 9.5715e-01, 1.4494e-01,\n",
      "         1.3435e-01, 4.4653e-01, 4.9880e-01, 2.8514e-01],\n",
      "        [3.8871e-02, 4.9045e-01, 6.4045e-01, 3.7760e-01, 9.7162e-01, 3.7600e-01,\n",
      "         6.8904e-01, 3.6613e-01, 2.3887e-01, 4.4782e-01],\n",
      "        [8.9026e-01, 6.8750e-01, 9.4790e-01, 1.5223e-01, 7.3905e-01, 9.7364e-01,\n",
      "         6.4844e-01, 7.0833e-01, 8.5793e-01, 6.7199e-01],\n",
      "        [6.2242e-01, 2.9278e-01, 2.0990e-01, 7.0715e-01, 8.8158e-01, 5.6254e-02,\n",
      "         5.4241e-01, 5.8576e-01, 3.3134e-01, 9.0586e-02],\n",
      "        [1.4306e-01, 6.0588e-01, 4.9998e-01, 4.3895e-01, 4.3772e-01, 4.6596e-01,\n",
      "         6.0635e-01, 6.0297e-01, 4.1736e-01, 7.9717e-01],\n",
      "        [2.4819e-02, 9.2738e-01, 2.5438e-01, 5.3064e-01, 6.3473e-01, 8.7091e-01,\n",
      "         5.6226e-01, 3.5223e-01, 9.9517e-01, 4.5787e-01],\n",
      "        [2.0676e-01, 8.9179e-01, 9.1847e-01, 6.6180e-01, 7.9574e-01, 9.6503e-01,\n",
      "         2.3219e-01, 4.4846e-01, 7.6159e-01, 7.9497e-01]])\n"
     ]
    },
    {
     "ename": "IndexError",
     "evalue": "too many indices for tensor of dimension 2",
     "output_type": "error",
     "traceback": [
      "\u001b[0;31m---------------------------------------------------------------------------\u001b[0m",
      "\u001b[0;31mIndexError\u001b[0m                                Traceback (most recent call last)",
      "Cell \u001b[0;32mIn[65], line 5\u001b[0m\n\u001b[1;32m      3\u001b[0m output \u001b[38;5;241m=\u001b[39m \u001b[38;5;28minput\u001b[39m\u001b[38;5;241m.\u001b[39mview(B\u001b[38;5;241m*\u001b[39mT,C)\n\u001b[1;32m      4\u001b[0m \u001b[38;5;28mprint\u001b[39m(output)\n\u001b[0;32m----> 5\u001b[0m \u001b[38;5;28mprint\u001b[39m(\u001b[43moutput\u001b[49m\u001b[43m[\u001b[49m\u001b[43m:\u001b[49m\u001b[43m,\u001b[49m\u001b[38;5;241;43m-\u001b[39;49m\u001b[38;5;241;43m1\u001b[39;49m\u001b[43m,\u001b[49m\u001b[43m:\u001b[49m\u001b[43m]\u001b[49m)\n",
      "\u001b[0;31mIndexError\u001b[0m: too many indices for tensor of dimension 2"
     ]
    }
   ],
   "source": [
    "input = torch.rand((4,8,10))\n",
    "B,T,C = input.shape\n",
    "output = input.view(B*T,C)\n",
    "print(output)\n",
    "print(output[:,-1,:])"
   ]
  },
  {
   "cell_type": "code",
   "execution_count": 68,
   "id": "5fe83858",
   "metadata": {},
   "outputs": [
    {
     "name": "stdout",
     "output_type": "stream",
     "text": [
      "tensor([0.0500])\n"
     ]
    }
   ],
   "source": [
    "x = torch.tensor([0.05],dtype=torch.float32)\n",
    "y = F.relu(x)\n",
    "print(y)"
   ]
  },
  {
   "cell_type": "code",
   "execution_count": 69,
   "id": "356a8fcd",
   "metadata": {},
   "outputs": [
    {
     "name": "stdout",
     "output_type": "stream",
     "text": [
      "tensor([0.4875])\n"
     ]
    }
   ],
   "source": [
    "x = torch.tensor([-0.05],dtype=torch.float32)\n",
    "y = F.sigmoid(x)\n",
    "print(y)"
   ]
  },
  {
   "cell_type": "code",
   "execution_count": 70,
   "id": "daaacf62",
   "metadata": {},
   "outputs": [
    {
     "name": "stdout",
     "output_type": "stream",
     "text": [
      "tensor([-0.0500])\n"
     ]
    }
   ],
   "source": [
    "x = torch.tensor([-0.05],dtype=torch.float32)\n",
    "y = F.tanh(x)\n",
    "print(y)"
   ]
  },
  {
   "cell_type": "code",
   "execution_count": 71,
   "id": "5eff1cc2",
   "metadata": {},
   "outputs": [
    {
     "name": "stdout",
     "output_type": "stream",
     "text": [
      "tensor([0.7616])\n"
     ]
    }
   ],
   "source": [
    "x = torch.tensor([1],dtype=torch.float32)\n",
    "y = F.tanh(x)\n",
    "print(y)"
   ]
  },
  {
   "cell_type": "code",
   "execution_count": null,
   "id": "51e08859",
   "metadata": {},
   "outputs": [],
   "source": []
  }
 ],
 "metadata": {
  "kernelspec": {
   "display_name": "cuda-gpt",
   "language": "python",
   "name": "cuda"
  },
  "language_info": {
   "codemirror_mode": {
    "name": "ipython",
    "version": 3
   },
   "file_extension": ".py",
   "mimetype": "text/x-python",
   "name": "python",
   "nbconvert_exporter": "python",
   "pygments_lexer": "ipython3",
   "version": "3.9.13"
  }
 },
 "nbformat": 4,
 "nbformat_minor": 5
}
