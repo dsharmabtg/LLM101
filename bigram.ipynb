{
 "cells": [
  {
   "cell_type": "code",
   "execution_count": 1,
   "id": "c07e3379",
   "metadata": {},
   "outputs": [
    {
     "name": "stdout",
     "output_type": "stream",
     "text": [
      "mps\n"
     ]
    }
   ],
   "source": [
    "import torch\n",
    "import torch.nn as nn\n",
    "from torch.nn import functional as F\n",
    "device = torch.device(\"mps\")\n",
    "print(device)\n",
    "block_size = 8\n",
    "batch_size = 4\n",
    "max_iters = 10000\n",
    "learning_rate=3e-4\n",
    "eval_iters = 250"
   ]
  },
  {
   "cell_type": "code",
   "execution_count": 2,
   "id": "16e636d4",
   "metadata": {},
   "outputs": [
    {
     "name": "stdout",
     "output_type": "stream",
     "text": [
      "tensor([1.], device='mps:0')\n"
     ]
    }
   ],
   "source": [
    "if torch.backends.mps.is_available():\n",
    "    mps_device = torch.device(\"mps\")\n",
    "    x = torch.ones(1, device=mps_device)\n",
    "    print(x)\n",
    "else:\n",
    "    print (\"MPS device not found.\")"
   ]
  },
  {
   "cell_type": "code",
   "execution_count": 3,
   "id": "34bcac4e",
   "metadata": {},
   "outputs": [
    {
     "name": "stdout",
     "output_type": "stream",
     "text": [
      "232326\n",
      "  DOROTHY AND THE WIZARD IN OZ\n",
      "\n",
      "  BY\n",
      "\n",
      "  L. FRANK BAUM\n",
      "\n",
      "  AUTHOR OF THE WIZARD OF OZ, THE LAND OF OZ, OZMA OF OZ, ETC.\n",
      "\n",
      "  ILLUSTRATED BY JOHN R. NEILL\n",
      "\n",
      "  BOOKS OF WONDER WILLIAM MORROW & CO., INC. NEW \n"
     ]
    }
   ],
   "source": [
    "with open('data/wizard_of_oz.txt','r', encoding='utf-8') as f:\n",
    "    text = f.read()\n",
    "print(len(text))\n",
    "print(text[:200])"
   ]
  },
  {
   "cell_type": "code",
   "execution_count": 4,
   "id": "94c6e571",
   "metadata": {},
   "outputs": [
    {
     "name": "stdout",
     "output_type": "stream",
     "text": [
      "['\\n', ' ', '!', '\"', '&', \"'\", '(', ')', '*', ',', '-', '.', '0', '1', '2', '3', '4', '5', '6', '7', '8', '9', ':', ';', '?', 'A', 'B', 'C', 'D', 'E', 'F', 'G', 'H', 'I', 'J', 'K', 'L', 'M', 'N', 'O', 'P', 'Q', 'R', 'S', 'T', 'U', 'V', 'W', 'X', 'Y', 'Z', '[', ']', '_', 'a', 'b', 'c', 'd', 'e', 'f', 'g', 'h', 'i', 'j', 'k', 'l', 'm', 'n', 'o', 'p', 'q', 'r', 's', 't', 'u', 'v', 'w', 'x', 'y', 'z']\n"
     ]
    }
   ],
   "source": [
    "chars = sorted(set(text))\n",
    "print(chars)\n",
    "vocab_size=len(chars)"
   ]
  },
  {
   "cell_type": "code",
   "execution_count": 5,
   "id": "2df54493",
   "metadata": {},
   "outputs": [
    {
     "name": "stdout",
     "output_type": "stream",
     "text": [
      "80\n"
     ]
    }
   ],
   "source": [
    "print(len(chars))"
   ]
  },
  {
   "cell_type": "code",
   "execution_count": 6,
   "id": "463791ce",
   "metadata": {},
   "outputs": [],
   "source": [
    "#Tokenziers\n",
    "string_to_int = {ch:i for i,ch in enumerate(chars)}\n",
    "int_to_string = {i:ch for i,ch in enumerate(chars)}\n",
    "encode = lambda s:[string_to_int[c] for c in s]\n",
    "decode = lambda l: ''.join([int_to_string[i] for i in l])"
   ]
  },
  {
   "cell_type": "code",
   "execution_count": 7,
   "id": "ca537b6d",
   "metadata": {},
   "outputs": [
    {
     "name": "stdout",
     "output_type": "stream",
     "text": [
      "[61, 58, 65, 65, 68]\n",
      "hello\n"
     ]
    }
   ],
   "source": [
    "encoded_hello = encode(\"hello\")\n",
    "decoded_hello = decode(encoded_hello)\n",
    "print(encoded_hello)\n",
    "print(decoded_hello)"
   ]
  },
  {
   "cell_type": "code",
   "execution_count": 8,
   "id": "f9118e79",
   "metadata": {},
   "outputs": [
    {
     "ename": "KeyError",
     "evalue": "tensor(61)",
     "output_type": "error",
     "traceback": [
      "\u001b[0;31m---------------------------------------------------------------------------\u001b[0m",
      "\u001b[0;31mKeyError\u001b[0m                                  Traceback (most recent call last)",
      "Cell \u001b[0;32mIn[8], line 2\u001b[0m\n\u001b[1;32m      1\u001b[0m t_encoded_hello \u001b[38;5;241m=\u001b[39m torch\u001b[38;5;241m.\u001b[39mtensor(encode(\u001b[38;5;124m\"\u001b[39m\u001b[38;5;124mhello\u001b[39m\u001b[38;5;124m\"\u001b[39m),dtype\u001b[38;5;241m=\u001b[39mtorch\u001b[38;5;241m.\u001b[39mlong)\n\u001b[0;32m----> 2\u001b[0m t_decode_hello \u001b[38;5;241m=\u001b[39m \u001b[43mdecode\u001b[49m\u001b[43m(\u001b[49m\u001b[43mt_encoded_hello\u001b[49m\u001b[43m)\u001b[49m\n\u001b[1;32m      3\u001b[0m \u001b[38;5;28mprint\u001b[39m(t_decode_hello)\n",
      "Cell \u001b[0;32mIn[6], line 5\u001b[0m, in \u001b[0;36m<lambda>\u001b[0;34m(l)\u001b[0m\n\u001b[1;32m      3\u001b[0m int_to_string \u001b[38;5;241m=\u001b[39m {i:ch \u001b[38;5;28;01mfor\u001b[39;00m i,ch \u001b[38;5;129;01min\u001b[39;00m \u001b[38;5;28menumerate\u001b[39m(chars)}\n\u001b[1;32m      4\u001b[0m encode \u001b[38;5;241m=\u001b[39m \u001b[38;5;28;01mlambda\u001b[39;00m s:[string_to_int[c] \u001b[38;5;28;01mfor\u001b[39;00m c \u001b[38;5;129;01min\u001b[39;00m s]\n\u001b[0;32m----> 5\u001b[0m decode \u001b[38;5;241m=\u001b[39m \u001b[38;5;28;01mlambda\u001b[39;00m l: \u001b[38;5;124m'\u001b[39m\u001b[38;5;124m'\u001b[39m\u001b[38;5;241m.\u001b[39mjoin([int_to_string[i] \u001b[38;5;28;01mfor\u001b[39;00m i \u001b[38;5;129;01min\u001b[39;00m l])\n",
      "Cell \u001b[0;32mIn[6], line 5\u001b[0m, in \u001b[0;36m<listcomp>\u001b[0;34m(.0)\u001b[0m\n\u001b[1;32m      3\u001b[0m int_to_string \u001b[38;5;241m=\u001b[39m {i:ch \u001b[38;5;28;01mfor\u001b[39;00m i,ch \u001b[38;5;129;01min\u001b[39;00m \u001b[38;5;28menumerate\u001b[39m(chars)}\n\u001b[1;32m      4\u001b[0m encode \u001b[38;5;241m=\u001b[39m \u001b[38;5;28;01mlambda\u001b[39;00m s:[string_to_int[c] \u001b[38;5;28;01mfor\u001b[39;00m c \u001b[38;5;129;01min\u001b[39;00m s]\n\u001b[0;32m----> 5\u001b[0m decode \u001b[38;5;241m=\u001b[39m \u001b[38;5;28;01mlambda\u001b[39;00m l: \u001b[38;5;124m'\u001b[39m\u001b[38;5;124m'\u001b[39m\u001b[38;5;241m.\u001b[39mjoin([\u001b[43mint_to_string\u001b[49m\u001b[43m[\u001b[49m\u001b[43mi\u001b[49m\u001b[43m]\u001b[49m \u001b[38;5;28;01mfor\u001b[39;00m i \u001b[38;5;129;01min\u001b[39;00m l])\n",
      "\u001b[0;31mKeyError\u001b[0m: tensor(61)"
     ]
    }
   ],
   "source": [
    "t_encoded_hello = torch.tensor(encode(\"hello\"),dtype=torch.long)\n",
    "t_decode_hello = decode(t_encoded_hello)\n",
    "print(t_decode_hello)"
   ]
  },
  {
   "cell_type": "code",
   "execution_count": 9,
   "id": "74eee3a4",
   "metadata": {},
   "outputs": [],
   "source": [
    "data = torch.tensor(encode(text),dtype=torch.long)\n"
   ]
  },
  {
   "cell_type": "code",
   "execution_count": 10,
   "id": "0bb933fa",
   "metadata": {},
   "outputs": [
    {
     "name": "stdout",
     "output_type": "stream",
     "text": [
      "tensor([ 1,  1, 28, 39, 42, 39, 44, 32, 49,  1, 25, 38, 28,  1, 44, 32, 29,  1,\n",
      "        47, 33, 50, 25, 42, 28,  1, 33, 38,  1, 39, 50,  0,  0,  1,  1, 26, 49,\n",
      "         0,  0,  1,  1, 36, 11,  1, 30, 42, 25, 38, 35,  1, 26, 25, 45, 37,  0,\n",
      "         0,  1,  1, 25, 45, 44, 32, 39, 42,  1, 39, 30,  1, 44, 32, 29,  1, 47,\n",
      "        33, 50, 25, 42, 28,  1, 39, 30,  1, 39, 50,  9,  1, 44, 32, 29,  1, 36,\n",
      "        25, 38, 28,  1, 39, 30,  1, 39, 50,  9])\n"
     ]
    }
   ],
   "source": [
    "print(data[:100])"
   ]
  },
  {
   "cell_type": "code",
   "execution_count": 11,
   "id": "d9cfd153",
   "metadata": {},
   "outputs": [
    {
     "name": "stdout",
     "output_type": "stream",
     "text": [
      "  DOROTHY AND THE WIZARD IN OZ\n",
      "\n",
      "  BY\n",
      "\n",
      "  L. FRANK BAUM\n",
      "\n",
      "  AUTHOR OF THE WIZARD OF OZ, THE LAND OF OZ,\n"
     ]
    }
   ],
   "source": [
    "print(text[:100])"
   ]
  },
  {
   "cell_type": "code",
   "execution_count": 12,
   "id": "673c3f92",
   "metadata": {},
   "outputs": [
    {
     "name": "stdout",
     "output_type": "stream",
     "text": [
      "232326\n"
     ]
    }
   ],
   "source": [
    "print(len(data))"
   ]
  },
  {
   "cell_type": "code",
   "execution_count": 13,
   "id": "dd9a1c0c",
   "metadata": {},
   "outputs": [],
   "source": [
    "n = int(0.8*len(data))\n",
    "train_data = data[:n]\n",
    "val_data = data[n:]"
   ]
  },
  {
   "cell_type": "code",
   "execution_count": 14,
   "id": "6aaafbec",
   "metadata": {},
   "outputs": [
    {
     "name": "stdout",
     "output_type": "stream",
     "text": [
      "when input is  tensor([1])  target is  tensor(1)\n",
      "when input is  tensor([1, 1])  target is  tensor(28)\n",
      "when input is  tensor([ 1,  1, 28])  target is  tensor(39)\n",
      "when input is  tensor([ 1,  1, 28, 39])  target is  tensor(42)\n",
      "when input is  tensor([ 1,  1, 28, 39, 42])  target is  tensor(39)\n",
      "when input is  tensor([ 1,  1, 28, 39, 42, 39])  target is  tensor(44)\n",
      "when input is  tensor([ 1,  1, 28, 39, 42, 39, 44])  target is  tensor(32)\n",
      "when input is  tensor([ 1,  1, 28, 39, 42, 39, 44, 32])  target is  tensor(49)\n"
     ]
    }
   ],
   "source": [
    "block_size = 8\n",
    "\n",
    "x = train_data[:block_size]\n",
    "y = train_data[1:block_size+1]\n",
    "\n",
    "for t in range(block_size):\n",
    "    context = x[:t+1]\n",
    "    target = y[t]\n",
    "    print('when input is ', context, ' target is ', target)"
   ]
  },
  {
   "cell_type": "code",
   "execution_count": 15,
   "id": "67205227",
   "metadata": {},
   "outputs": [],
   "source": [
    "def get_batch(split):\n",
    "    data = train_data if split == 'train' else val_data\n",
    "    ix = torch.randint(len(data)-block_size,(batch_size,))\n",
    "    #print(ix)\n",
    "    x = torch.stack([data[i:i+block_size] for i in ix])\n",
    "    y = torch.stack([data[i+1:i+block_size+1] for i in ix])\n",
    "    x,y = x.to(device),y.to(device)\n",
    "    return x,y"
   ]
  },
  {
   "cell_type": "code",
   "execution_count": 16,
   "id": "c6b5e8aa",
   "metadata": {},
   "outputs": [
    {
     "name": "stdout",
     "output_type": "stream",
     "text": [
      "inputs:\n",
      "tensor([[ 1, 34, 62, 67, 63, 74, 71, 11],\n",
      "        [58, 67, 57, 62, 67, 60,  9,  1],\n",
      "        [61, 62, 72,  1, 67, 62, 67, 58],\n",
      "        [58,  1, 76, 62, 73, 61,  1, 38]], device='mps:0')\n",
      "targets:\n",
      "tensor([[34, 62, 67, 63, 74, 71, 11,  1],\n",
      "        [67, 57, 62, 67, 60,  9,  1, 73],\n",
      "        [62, 72,  1, 67, 62, 67, 58,  1],\n",
      "        [ 1, 76, 62, 73, 61,  1, 38, 62]], device='mps:0')\n"
     ]
    }
   ],
   "source": [
    "x,y = get_batch('train')\n",
    "print('inputs:')\n",
    "print(x)\n",
    "\n",
    "print('targets:')\n",
    "print(y)"
   ]
  },
  {
   "cell_type": "code",
   "execution_count": 17,
   "id": "a8960ef9",
   "metadata": {},
   "outputs": [],
   "source": [
    "class BigramLanguageModel(nn.Module):\n",
    "    def __init__(self,vocab_size):\n",
    "        super().__init__()\n",
    "        self.token_embedding_table = nn.Embedding(vocab_size,vocab_size)\n",
    "        \n",
    "    def forward(self,index,targets=None):\n",
    "        \n",
    "        logits = self.token_embedding_table(index)\n",
    "        \n",
    "        if targets is None:\n",
    "            loss = None\n",
    "        else:\n",
    "            B, T, C = logits.shape\n",
    "            logits = logits.view(B*T,C)\n",
    "            targets = targets.view(B*T)\n",
    "            loss = F.cross_entropy(logits,targets)\n",
    "        \n",
    "        return logits,loss\n",
    "        \n",
    "    def generate(self,index,max_new_tokens):\n",
    "        #index is (B,T) array of indices in the current context\n",
    "        \n",
    "        for _ in range(max_new_tokens):\n",
    "            #get the predictions\n",
    "            logits, loss = self.forward(index)\n",
    "            #focus only on the last time step\n",
    "            logits = logits[:,-1,:] #becomes (B,C)\n",
    "            #apply softmax to get probabilities\n",
    "            probs = F.softmax(logits,dim=-1) # (B,C)\n",
    "            #sample from the distribution\n",
    "            index_next = torch.multinomial(probs,num_samples=1) #(B,1)\n",
    "            #append sampled index to the running sequence\n",
    "            index = torch.cat((index,index_next),dim=1) #(B,T+1)\n",
    "            \n",
    "        return index\n",
    "            "
   ]
  },
  {
   "cell_type": "code",
   "execution_count": 18,
   "id": "4ae5ba0d",
   "metadata": {},
   "outputs": [
    {
     "name": "stdout",
     "output_type": "stream",
     "text": [
      "\n",
      "XwaQgJbDdku)pXf]7Po[kA3a?io4,a[-O,.TgxXvMX;LwH3nG\n",
      "zGa_rtQ1Vt4L Pjt-Fj7nRKIe PPm03sL8S]Xm&g5Vj0]aA9q?a3f4Z_npX?kjUes1]1Lq_db8EF4_sQr;FS!NxXWi\n",
      "6S?JQDsxwWXd)qdE6hSuSHr!Y!Y\n",
      "C\"QD3Z_g5wzd0moXj0'c_LBIfGeDBQgb:M,;H]7x.rtN.87hWVJlg.Cnx4sLU(7n,;nJzQXF!nNTzD6HoUH4Xl8hOXkA?,t8*FJmoh,yJ;Z_UxbDsfaBbwehYStEc;ZVRNb8rGB\"C[u3sCXq7:1RX:QeM5RxkuAWOqLO;NN;ZZdVT2j)aBcQOA85ecqP? ;M.The0dw\"UFFd_S9Vub5eB*\n",
      "RwhC0dmZA9VOa?f\"Q:-uY8L23]7x_w4JloS9pUaj\";vvU:Pb9kmZwucv;*L'8RR[[y\"D,Mi_&z8LGkYA\n",
      "hxHN0GkWOB3nWnNQDf9tpU:SL2Jb8,W:*C\n",
      "\n"
     ]
    }
   ],
   "source": [
    "model = BigramLanguageModel(vocab_size)\n",
    "m = model.to(device)\n",
    "\n",
    "context = torch.zeros((1,1,), dtype=torch.long, device=device)\n",
    "generated_chars = decode(m.generate(context,max_new_tokens=500)[0].tolist())\n",
    "print(generated_chars)"
   ]
  },
  {
   "cell_type": "code",
   "execution_count": 19,
   "id": "e5be1172",
   "metadata": {},
   "outputs": [
    {
     "name": "stdout",
     "output_type": "stream",
     "text": [
      "3.001457452774048\n"
     ]
    }
   ],
   "source": [
    "#create a pytorch optimizer\n",
    "optimizer = torch.optim.AdamW(model.parameters(),lr=learning_rate)\n",
    "\n",
    "for iter in range(max_iters):\n",
    "    \n",
    "    #sample a batch of data\n",
    "    xb,yb = get_batch(\"train\")\n",
    "    \n",
    "    #evaluate the loss\n",
    "    logits,loss = model.forward(xb,yb)\n",
    "    optimizer.zero_grad(set_to_none=True)\n",
    "    loss.backward()\n",
    "    optimizer.step()\n",
    "\n",
    "print(loss.item())"
   ]
  },
  {
   "cell_type": "code",
   "execution_count": 20,
   "id": "942f86d5",
   "metadata": {},
   "outputs": [
    {
     "name": "stdout",
     "output_type": "stream",
     "text": [
      "\n",
      "PVAFly:SPWDOB\"z ySun K5,\"theasU9xp]Xw wegiz2XQetil*A\n",
      "mpl)D13NAMH?hw eQX(A6HNboy tidi g.BQh9_n_?LaX\"o P(ZpP'A&ab03cidy werh4*E\n",
      "iddicians, Fn.3Q\"my ZA\"N'0_&YXHxCRX7PD8U.j\n",
      "\n",
      ",kIfoengn:p2\"CEVolfl23SPIV7nkM5boutonodAODGefxXtHr03CMk&Q'V;&69ioU1?(2;\n",
      "[[y.B8:arep]1S*zMPqd\n",
      "AlH7PO,IV*UES8RXJQ39]8he-D5eravm d;3Rv[6&ErDG*6Vvj\" 5OROWQGQGythaBrW;Q5Ey oloc!. ti2CQr4XKHAVaidFenstrBn'mofuDEm]a)8hi5whon]S0,Ij3E)oumahsq)S1_5ou03cchVMEt _Y!0Q6[ace tUivCLHigin]29lCljL'CdQ4hathhe pow_S[_l2edyt,3_Tn-OSvads, vKSs-6Utt*JP\n"
     ]
    }
   ],
   "source": [
    "context = torch.zeros((1,1,), dtype=torch.long, device=device)\n",
    "generated_chars = decode(m.generate(context,max_new_tokens=500)[0].tolist())\n",
    "print(generated_chars)"
   ]
  },
  {
   "cell_type": "code",
   "execution_count": 21,
   "id": "12b21723",
   "metadata": {},
   "outputs": [],
   "source": [
    "@torch.no_grad()\n",
    "def estimate_loss():\n",
    "    out = {}\n",
    "    model.eval()\n",
    "    for split in ['train','val']:\n",
    "        losses = torch.zeros(eval_iters)\n",
    "        for k in range(eval_iters):\n",
    "            X,Y = get_batch(split)\n",
    "            logits,loss = model(X,Y)\n",
    "            losses[k] = loss.item()\n",
    "        out[split] = losses.mean()\n",
    "    model.train()\n",
    "    return out"
   ]
  },
  {
   "cell_type": "code",
   "execution_count": 22,
   "id": "44941bb4",
   "metadata": {},
   "outputs": [
    {
     "name": "stdout",
     "output_type": "stream",
     "text": [
      "step:0, train loss: 3.1597, val loss:3.1978\n",
      "step:250, train loss: 3.1404, val loss:3.1694\n",
      "step:500, train loss: 3.1116, val loss:3.1370\n",
      "step:750, train loss: 3.1102, val loss:3.1037\n",
      "step:1000, train loss: 3.0922, val loss:3.0619\n",
      "step:1250, train loss: 3.0734, val loss:3.0744\n",
      "step:1500, train loss: 3.0393, val loss:3.0702\n",
      "step:1750, train loss: 3.0164, val loss:3.0379\n",
      "step:2000, train loss: 3.0003, val loss:3.0040\n",
      "step:2250, train loss: 2.9594, val loss:2.9733\n",
      "step:2500, train loss: 2.9864, val loss:3.0031\n",
      "step:2750, train loss: 2.9539, val loss:2.9689\n",
      "step:3000, train loss: 2.8972, val loss:2.9530\n",
      "step:3250, train loss: 2.9000, val loss:2.9293\n",
      "step:3500, train loss: 2.8805, val loss:2.8997\n",
      "step:3750, train loss: 2.8746, val loss:2.8907\n",
      "step:4000, train loss: 2.8731, val loss:2.8772\n",
      "step:4250, train loss: 2.8526, val loss:2.8580\n",
      "step:4500, train loss: 2.8409, val loss:2.8839\n",
      "step:4750, train loss: 2.8176, val loss:2.8513\n",
      "step:5000, train loss: 2.7830, val loss:2.8460\n",
      "step:5250, train loss: 2.7887, val loss:2.8029\n",
      "step:5500, train loss: 2.7921, val loss:2.8170\n",
      "step:5750, train loss: 2.7427, val loss:2.7850\n",
      "step:6000, train loss: 2.7673, val loss:2.8143\n",
      "step:6250, train loss: 2.7635, val loss:2.7760\n",
      "step:6500, train loss: 2.7246, val loss:2.7829\n",
      "step:6750, train loss: 2.7636, val loss:2.7644\n",
      "step:7000, train loss: 2.7288, val loss:2.7721\n",
      "step:7250, train loss: 2.7407, val loss:2.7244\n",
      "step:7500, train loss: 2.7159, val loss:2.7490\n",
      "step:7750, train loss: 2.6803, val loss:2.7260\n",
      "step:8000, train loss: 2.7025, val loss:2.7213\n",
      "step:8250, train loss: 2.6810, val loss:2.7150\n",
      "step:8500, train loss: 2.6846, val loss:2.7091\n",
      "step:8750, train loss: 2.6960, val loss:2.6837\n",
      "step:9000, train loss: 2.6674, val loss:2.7048\n",
      "step:9250, train loss: 2.6352, val loss:2.6781\n",
      "step:9500, train loss: 2.6700, val loss:2.6921\n",
      "step:9750, train loss: 2.6523, val loss:2.6979\n",
      "2.454984664916992\n"
     ]
    }
   ],
   "source": [
    "#create a pytorch optimizer\n",
    "optimizer = torch.optim.AdamW(model.parameters(),lr=learning_rate)\n",
    "\n",
    "for iter in range(max_iters):\n",
    "    \n",
    "    if iter%eval_iters==0:\n",
    "            losses = estimate_loss()\n",
    "            print(f\"step:{iter}, train loss: {losses['train']:.4f}, val loss:{losses['val']:.4f}\")\n",
    "    \n",
    "    #sample a batch of data\n",
    "    xb,yb = get_batch(\"train\")\n",
    "    \n",
    "    #evaluate the loss\n",
    "    logits,loss = model.forward(xb,yb)\n",
    "    optimizer.zero_grad(set_to_none=True)\n",
    "    loss.backward()\n",
    "    optimizer.step()\n",
    "\n",
    "print(loss.item())"
   ]
  },
  {
   "cell_type": "code",
   "execution_count": null,
   "id": "cd535914",
   "metadata": {},
   "outputs": [],
   "source": []
  }
 ],
 "metadata": {
  "kernelspec": {
   "display_name": "cuda-gpt",
   "language": "python",
   "name": "cuda"
  },
  "language_info": {
   "codemirror_mode": {
    "name": "ipython",
    "version": 3
   },
   "file_extension": ".py",
   "mimetype": "text/x-python",
   "name": "python",
   "nbconvert_exporter": "python",
   "pygments_lexer": "ipython3",
   "version": "3.9.13"
  }
 },
 "nbformat": 4,
 "nbformat_minor": 5
}
