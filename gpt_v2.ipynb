{
  "cells": [
    {
      "cell_type": "code",
      "execution_count": 1,
      "id": "c7f48991",
      "metadata": {
        "id": "c7f48991"
      },
      "outputs": [],
      "source": [
        "import torch\n",
        "import torch.nn as nn\n",
        "from torch.nn import functional as F"
      ]
    },
    {
      "cell_type": "code",
      "execution_count": 2,
      "id": "a28de22f",
      "metadata": {
        "colab": {
          "base_uri": "https://localhost:8080/"
        },
        "id": "a28de22f",
        "outputId": "eeee6950-8029-499f-b5e3-b67f1870080e"
      },
      "outputs": [
        {
          "output_type": "stream",
          "name": "stdout",
          "text": [
            "cuda\n"
          ]
        }
      ],
      "source": [
        "device = torch.device(\"cuda\")\n",
        "print(device)"
      ]
    },
    {
      "cell_type": "code",
      "execution_count": 3,
      "id": "ed04fdc2",
      "metadata": {
        "id": "ed04fdc2"
      },
      "outputs": [],
      "source": [
        "block_size = 64\n",
        "batch_size = 128\n",
        "max_iters = 3000\n",
        "learning_rate = 3e-3\n",
        "eval_iters = 500\n",
        "n_embd = 384\n",
        "n_head = 4\n",
        "n_layer = 4\n",
        "dropout=0.2"
      ]
    },
    {
      "cell_type": "code",
      "execution_count": 6,
      "id": "05d1a815",
      "metadata": {
        "colab": {
          "base_uri": "https://localhost:8080/"
        },
        "id": "05d1a815",
        "outputId": "b7c1c7ef-65ac-43da-9bd6-75799cc7fe12"
      },
      "outputs": [
        {
          "output_type": "stream",
          "name": "stdout",
          "text": [
            "['\\n', ' ', '!', '\"', '&', \"'\", '(', ')', '*', ',', '-', '.', '0', '1', '2', '3', '4', '5', '6', '7', '8', '9', ':', ';', '?', 'A', 'B', 'C', 'D', 'E', 'F', 'G', 'H', 'I', 'J', 'K', 'L', 'M', 'N', 'O', 'P', 'Q', 'R', 'S', 'T', 'U', 'V', 'W', 'X', 'Y', 'Z', '[', ']', '_', 'a', 'b', 'c', 'd', 'e', 'f', 'g', 'h', 'i', 'j', 'k', 'l', 'm', 'n', 'o', 'p', 'q', 'r', 's', 't', 'u', 'v', 'w', 'x', 'y', 'z']\n",
            "80\n"
          ]
        }
      ],
      "source": [
        "chars = \"\"\n",
        "with open('/content/wizard_of_oz.txt','r', encoding='utf-8') as f:\n",
        "    text = f.read()\n",
        "    chars = sorted(list(set(text)))\n",
        "\n",
        "#chars = sorted(set(text))\n",
        "print(chars)\n",
        "vocab_size=len(chars)\n",
        "print(vocab_size)"
      ]
    },
    {
      "cell_type": "code",
      "execution_count": 7,
      "id": "34146735",
      "metadata": {
        "id": "34146735"
      },
      "outputs": [],
      "source": [
        "#Tokenziers\n",
        "string_to_int = {ch:i for i,ch in enumerate(chars)}\n",
        "int_to_string = {i:ch for i,ch in enumerate(chars)}\n",
        "encode = lambda s:[string_to_int[c] for c in s]\n",
        "decode = lambda l: ''.join([int_to_string[i] for i in l])\n",
        "\n",
        "data = torch.tensor(encode(text),dtype=torch.long)"
      ]
    },
    {
      "cell_type": "code",
      "execution_count": 8,
      "id": "5141c8d3",
      "metadata": {
        "id": "5141c8d3"
      },
      "outputs": [],
      "source": [
        "n = int(0.8*len(data))\n",
        "train_data = data[:n]\n",
        "val_data = data[n:]"
      ]
    },
    {
      "cell_type": "code",
      "execution_count": 9,
      "id": "9c7d7e6d",
      "metadata": {
        "id": "9c7d7e6d"
      },
      "outputs": [],
      "source": [
        "def get_batch(split):\n",
        "    data = train_data if split == 'train' else val_data\n",
        "    ix = torch.randint(len(data)-block_size,(batch_size,))\n",
        "    #print(ix)\n",
        "    x = torch.stack([data[i:i+block_size] for i in ix])\n",
        "    y = torch.stack([data[i+1:i+block_size+1] for i in ix])\n",
        "    x,y = x.to(device),y.to(device)\n",
        "    return x,y"
      ]
    },
    {
      "cell_type": "code",
      "execution_count": 10,
      "id": "efe6966c",
      "metadata": {
        "id": "efe6966c"
      },
      "outputs": [],
      "source": [
        "@torch.no_grad()\n",
        "def estimate_loss():\n",
        "    out = {}\n",
        "    model.eval()\n",
        "    for split in ['train','val']:\n",
        "        losses = torch.zeros(eval_iters)\n",
        "        for k in range(eval_iters):\n",
        "            X,Y = get_batch(split)\n",
        "            logits,loss = model(X,Y)\n",
        "            losses[k] = loss.item()\n",
        "        out[split] = losses.mean()\n",
        "    model.train()\n",
        "    return out"
      ]
    },
    {
      "cell_type": "code",
      "execution_count": 11,
      "id": "b31b323d",
      "metadata": {
        "id": "b31b323d"
      },
      "outputs": [],
      "source": [
        "class Head(nn.Module):\n",
        "    \"\"\" one head of self-attention \"\"\"\n",
        "\n",
        "    def __init__(self, head_size):\n",
        "        super().__init__()\n",
        "        self.key = nn.Linear(n_embd,head_size,bias=False)\n",
        "        self.query = nn.Linear(n_embd,head_size,bias=False)\n",
        "        self.value = nn.Linear(n_embd,head_size,bias=False)\n",
        "        self.register_buffer('tril',torch.tril(torch.ones(block_size,block_size)))\n",
        "\n",
        "        self.dropout = nn.Dropout(dropout)\n",
        "\n",
        "    def forward(self,x):\n",
        "\n",
        "        #input of size (batch,time-step, channels)\n",
        "        #output of size (batch,time-steo,head_size)\n",
        "        B,T,C = x.shape\n",
        "\n",
        "        k = self.key(x)    #(B,T,hs)\n",
        "        q = self.query(x)  #(B,T,hs)\n",
        "\n",
        "        #compute attention scores (\"affinities\")\n",
        "        wei = q @ k.transpose(-2,-1) * k.shape[-1]**-0.5 # (B,T,hs) @ (B,hs,T) --> (B,T,T)\n",
        "        wei = wei.masked_fill(self.tril[:T,:T]==0,float('-inf')) #(B,T,T)\n",
        "        wei = F.softmax(wei,dim=-1) # (B,T,T)\n",
        "        wei = self.dropout(wei)\n",
        "\n",
        "        #perform the weighted aggregation of the values\n",
        "        v = self.value(x)\n",
        "        out = wei @ v # (B,T,T) @ (B,T,hs) --> (B,T,hs)\n",
        "\n",
        "        return out\n"
      ]
    },
    {
      "cell_type": "code",
      "execution_count": 12,
      "id": "33207017",
      "metadata": {
        "id": "33207017"
      },
      "outputs": [],
      "source": [
        "class MultiHeadAttention(nn.Module):\n",
        "    \"\"\" multiple heads of self-attention in parallel\"\"\"\n",
        "\n",
        "    def __init__(self, num_heads,head_size):\n",
        "        super().__init__()\n",
        "        self.heads = nn.ModuleList([Head(head_size) for _ in range(num_heads)])\n",
        "        self.proj = nn.Linear(head_size * num_heads,n_embd)\n",
        "        self.dropout = nn.Dropout(dropout)\n",
        "\n",
        "    def forward(self,x):\n",
        "        out = torch.cat([h(x) for h in self.heads],dim=-1) # (B,T,F) -> (B,T,[h1,h1,h1,h1,h2,h2,h2,h2,h3,h3,h3,h3])\n",
        "        out = self.dropout(self.proj(out))\n",
        "        return out"
      ]
    },
    {
      "cell_type": "code",
      "execution_count": 13,
      "id": "81d8424a",
      "metadata": {
        "id": "81d8424a"
      },
      "outputs": [],
      "source": [
        "class FeedForward(nn.Module):\n",
        "    \"\"\" a simple linear layer followed by a non-linearity\"\"\"\n",
        "\n",
        "    def __init__(self,n_embd):\n",
        "        super().__init__()\n",
        "        self.net = nn.Sequential(\n",
        "                        nn.Linear(n_embd, 4 * n_embd),\n",
        "                        nn.ReLU(),\n",
        "                        nn.Linear(4 * n_embd, n_embd),\n",
        "                        nn.Dropout(dropout)\n",
        "                    )\n",
        "    def forward(self,x):\n",
        "        return self.net(x)"
      ]
    },
    {
      "cell_type": "code",
      "execution_count": 14,
      "id": "f60add12",
      "metadata": {
        "id": "f60add12"
      },
      "outputs": [],
      "source": [
        "class Block(nn.Module):\n",
        "    \"\"\"Transformer block: communication followed by computation\"\"\"\n",
        "\n",
        "    def __init__(self, n_embd, n_head):\n",
        "        super().__init__()\n",
        "        head_size = n_embd // n_head\n",
        "        self.sa = MultiHeadAttention(n_head,head_size)\n",
        "        self.ffwd = FeedForward(n_embd)\n",
        "        self.ln1 = nn.LayerNorm(n_embd)\n",
        "        self.ln2 = nn.LayerNorm(n_embd)\n",
        "\n",
        "\n",
        "    def forward(self,x):\n",
        "        y = self.sa(x)\n",
        "        x = self.ln1(x + y)\n",
        "        y = self.ffwd(x)\n",
        "        x = self.ln2(x+y)\n",
        "\n",
        "        return x"
      ]
    },
    {
      "cell_type": "code",
      "execution_count": 15,
      "id": "f7b03354",
      "metadata": {
        "id": "f7b03354"
      },
      "outputs": [],
      "source": [
        "class GPTLanguageModel(nn.Module):\n",
        "    def __init__(self, vocab_size):\n",
        "        super().__init__()\n",
        "        self.token_embedding_table = nn.Embedding(vocab_size,n_embd)\n",
        "        self.position_embedding_table = nn.Embedding(block_size,n_embd)\n",
        "        self.blocks = nn.Sequential(*[Block(n_embd,n_head=n_head) for _ in range(n_layer)])\n",
        "\n",
        "        self.ln_f = nn.LayerNorm(n_embd) #Final layer norm\n",
        "        self.lm_head = nn.Linear(n_embd,vocab_size)\n",
        "\n",
        "        self.apply(self._init_weights)\n",
        "\n",
        "\n",
        "    def _init_weights(self,module):\n",
        "        if isinstance(module,nn.Linear):\n",
        "            torch.nn.init.normal_(module.weight,mean=0.0,std=0.02)\n",
        "            if module.bias is not None:\n",
        "                torch.nn.init.zeros_(module.bias)\n",
        "        elif isinstance(module, nn.Embedding):\n",
        "            torch.nn.init.normal_(module.weight,mean=0.0,std=0.02)\n",
        "\n",
        "    def forward(self,index,targets=None):\n",
        "\n",
        "        B,T = index.shape\n",
        "        #logits = self.token_embedding_table(index)\n",
        "        #B, T, C = logits.shape\n",
        "        #idx and targets are both (B,T) tensor of integers\n",
        "        tok_emb = self.token_embedding_table(index)\n",
        "        pos_emb = self.position_embedding_table(torch.arange(T,device=device))#(T,C)\n",
        "        x = tok_emb + pos_emb #(B,T,C)\n",
        "        x = self.blocks(x) #(B,T,C)\n",
        "        x = self.ln_f(x) #(B,T,C)\n",
        "        logits = self.lm_head(x) # (B,T,vocab_size)\n",
        "\n",
        "\n",
        "        if targets is None:\n",
        "            loss = None\n",
        "        else:\n",
        "            B,T,C = logits.shape\n",
        "            logits = logits.view(B*T,C)\n",
        "            targets = targets.view(B*T)\n",
        "            loss = F.cross_entropy(logits,targets)\n",
        "\n",
        "        return logits,loss\n",
        "\n",
        "    def generate(self,index,max_new_tokens):\n",
        "        #index is (B,T) array of indices in the current context\n",
        "\n",
        "        for _ in range(max_new_tokens):\n",
        "            #crop idx to the last block_size tokens\n",
        "            index_cond = index[:,-block_size:]\n",
        "            #get the predictions\n",
        "            logits, loss = self.forward(index_cond)\n",
        "            #focus only on the last time step\n",
        "            logits = logits[:,-1,:] #becomes (B,C)\n",
        "            #apply softmax to get probabilities\n",
        "            probs = F.softmax(logits,dim=-1) # (B,C)\n",
        "            #sample from the distribution\n",
        "            index_next = torch.multinomial(probs,num_samples=1) #(B,1)\n",
        "            #append sampled index to the running sequence\n",
        "            index = torch.cat((index,index_next),dim=1) #(B,T+1)\n",
        "\n",
        "        return index\n",
        "\n",
        ""
      ]
    },
    {
      "cell_type": "code",
      "execution_count": 16,
      "id": "5fc99051",
      "metadata": {
        "id": "5fc99051"
      },
      "outputs": [],
      "source": [
        "model = GPTLanguageModel(vocab_size)\n",
        "m = model.to(device)"
      ]
    },
    {
      "cell_type": "code",
      "execution_count": 17,
      "id": "33774682",
      "metadata": {
        "colab": {
          "base_uri": "https://localhost:8080/"
        },
        "id": "33774682",
        "outputId": "cfcf9860-5806-4054-e089-f5caeea5c6d1"
      },
      "outputs": [
        {
          "output_type": "stream",
          "name": "stdout",
          "text": [
            "step:0, train loss: 4.4783, val loss:4.4784\n",
            "step:500, train loss: 3.1452, val loss:3.1598\n",
            "step:1000, train loss: 3.1408, val loss:3.1540\n",
            "step:1500, train loss: 3.1416, val loss:3.1520\n",
            "step:2000, train loss: 3.1389, val loss:3.1515\n",
            "step:2500, train loss: 3.1417, val loss:3.1531\n",
            "3.129955530166626\n"
          ]
        }
      ],
      "source": [
        "#create a pytorch optimizer\n",
        "optimizer = torch.optim.AdamW(model.parameters(),lr=learning_rate)\n",
        "\n",
        "for iter in range(max_iters):\n",
        "\n",
        "    if iter%eval_iters==0:\n",
        "            losses = estimate_loss()\n",
        "            print(f\"step:{iter}, train loss: {losses['train']:.4f}, val loss:{losses['val']:.4f}\")\n",
        "\n",
        "    #sample a batch of data\n",
        "    xb,yb = get_batch(\"train\")\n",
        "\n",
        "    #evaluate the loss\n",
        "    logits,loss = model.forward(xb,yb)\n",
        "    optimizer.zero_grad(set_to_none=True)\n",
        "    loss.backward()\n",
        "    optimizer.step()\n",
        "\n",
        "print(loss.item())"
      ]
    },
    {
      "cell_type": "code",
      "execution_count": 20,
      "id": "63ae4684",
      "metadata": {
        "colab": {
          "base_uri": "https://localhost:8080/"
        },
        "id": "63ae4684",
        "outputId": "99401f37-3c21-4043-eec8-53b3dc3cc465"
      },
      "outputs": [
        {
          "output_type": "stream",
          "name": "stdout",
          "text": [
            "\n",
            "l.e\n",
            "a \"\"esrrrt ld eoh rcoi weudsmooote5eco\n",
            "o\n",
            "c,wr a motWi t Lh,siasra Avti fabioirv .bitIaa daisncatDt h Bndhfnslt qoa  r \n",
            "r\n",
            "qe tdem\"hdmwl,fneubr o   r h sd hrhu deo',niks.d fe h n ,osrfne tcdan natcsssetp in la   hmuhnhnoi.nc ze.c eHcc\n",
            "i a\"ndod'b  u1ysrsrydne Tatruaro  nnduae  'btausspntpsWo,tiapo;T. ndedteb a\n",
            "etc m anshdap,mowi  gf ssyfl an rut iia.g\n",
            "lobtns  damslPere din .  tcl tav oFbgcwtatsea  yhtd eegeere  eab orh . sTu;bylesUorlmo ihrlnneaet niluhaursherg etch,niltsu  fst d\n",
            "nne bngnngOemo\n"
          ]
        }
      ],
      "source": [
        "context = torch.zeros((1,1,), dtype=torch.long, device=device)\n",
        "generated_chars = decode(m.generate(context,max_new_tokens=500)[0].tolist())\n",
        "print(generated_chars)"
      ]
    },
    {
      "cell_type": "code",
      "execution_count": null,
      "id": "9132afb4",
      "metadata": {
        "id": "9132afb4"
      },
      "outputs": [],
      "source": []
    }
  ],
  "metadata": {
    "kernelspec": {
      "display_name": "Python 3",
      "name": "python3"
    },
    "language_info": {
      "codemirror_mode": {
        "name": "ipython",
        "version": 3
      },
      "file_extension": ".py",
      "mimetype": "text/x-python",
      "name": "python",
      "nbconvert_exporter": "python",
      "pygments_lexer": "ipython3",
      "version": "3.9.13"
    },
    "colab": {
      "provenance": [],
      "gpuType": "T4"
    },
    "accelerator": "GPU"
  },
  "nbformat": 4,
  "nbformat_minor": 5
}